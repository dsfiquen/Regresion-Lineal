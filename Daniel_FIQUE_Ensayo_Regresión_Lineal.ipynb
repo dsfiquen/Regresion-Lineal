{
  "nbformat": 4,
  "nbformat_minor": 0,
  "metadata": {
    "colab": {
      "name": "Daniel FIQUE- Ensayo Regresión Lineal.ipynb",
      "provenance": []
    },
    "kernelspec": {
      "name": "python3",
      "display_name": "Python 3"
    },
    "language_info": {
      "name": "python"
    }
  },
  "cells": [
    {
      "cell_type": "markdown",
      "metadata": {
        "id": "wHJXczr0IHoz"
      },
      "source": [
        "# Qué es Regresión Lineal?"
      ]
    },
    {
      "cell_type": "markdown",
      "metadata": {
        "id": "-6pFuuIRMSTd"
      },
      "source": [
        "##Definición"
      ]
    },
    {
      "cell_type": "markdown",
      "metadata": {
        "id": "laDph8WMI2T6"
      },
      "source": [
        "En estadística, se entiende por [Regresión Linear](https://en.wikipedia.org/wiki/Linear_regression#:~:text=In%20statistics%2C%20linear%20regression%20is,as%20dependent%20and%20independent%20variables) a una técnica de modelado matemático, usada para ajustar la relación de dependencia entre dos -*binaria*- o más variables -*multilinear*-. Adicionalmente, la magnitud de las variables está limitada a un espacio vectorial -*respuesta escalar*-. El caso más simple de regresión linear explica la relación entre una variable dependiente $Y$, respecto a una variable independiente $X$, junto a un término aleatorio $\\epsilon$. "
      ]
    },
    {
      "cell_type": "markdown",
      "metadata": {
        "id": "CeQxeg9ybCc8"
      },
      "source": [
        "## [Historia](https://es.wikipedia.org/wiki/Regresi%C3%B3n_lineal)"
      ]
    },
    {
      "cell_type": "markdown",
      "metadata": {
        "id": "LLkNAL6uTP1F"
      },
      "source": [
        "## Explicación matemática del Modelo de Regresión"
      ]
    },
    {
      "cell_type": "markdown",
      "metadata": {
        "id": "Qi3uMtcUTcsc"
      },
      "source": [
        "Este modelo puede explicarse bajo la fórmula: \n",
        "\n",
        "$Y = \\beta_0 + \\beta_1X_1 + \\epsilon$\n",
        "\n",
        "Donde:  \n",
        "$Y$ es la variable de respuesta.\n",
        "$X_1,X_2,...,X_n$ son variables independientes.\n",
        "$\\beta_0,\\beta_1, ..., \\beta_n$ son los parámetros del modelo. Midiendo el coeficiente de influencia de las variables independientes.\n"
      ]
    },
    {
      "cell_type": "markdown",
      "metadata": {
        "id": "fsMRQlKRPB6n"
      },
      "source": [
        "![Ejemplo Uno](https://upload.wikimedia.org/wikipedia/commons/thumb/3/3a/Linear_regression.svg/1920px-Linear_regression.svg.png)"
      ]
    },
    {
      "cell_type": "markdown",
      "metadata": {
        "id": "YaBxD0RdcGOy"
      },
      "source": [
        ">Ejemplo de Regresión Linear Simple, con una única variable independiente."
      ]
    },
    {
      "cell_type": "markdown",
      "metadata": {
        "id": "Vylj41HFeCjz"
      },
      "source": [
        "![Linear Multiple](https://www.fisterra.com/mbe/investiga/regre_lineal_multi/images/Image167.gif)"
      ]
    },
    {
      "cell_type": "markdown",
      "metadata": {
        "id": "2RCU2K9_eSC5"
      },
      "source": [
        ">Ejemplo de un Modelo Múltiple, con dos variables regresivas relacionadas al registro de presión arterial."
      ]
    },
    {
      "cell_type": "markdown",
      "metadata": {
        "id": "8OLPD_ehMX9A"
      },
      "source": [
        "### Complejidad"
      ]
    },
    {
      "cell_type": "markdown",
      "metadata": {
        "id": "Z4IZOXd6MlOJ"
      },
      "source": [
        "Debido a que los parámateros desconocidos se pueden ajustar con mayor facilidad que en los modelos no-lineales, la regresión linear es primordial en el análisis estadístico de la [distribución de probabilidad condicional](https://en.wikipedia.org/wiki/Conditional_probability_distribution)."
      ]
    },
    {
      "cell_type": "markdown",
      "metadata": {
        "id": "-Flt50t3Nnfp"
      },
      "source": [
        "![Aplicación Modelo Linear](https://miro.medium.com/max/1400/1*PQ8tdohapfm-YHlrRIRuOA.gif)"
      ]
    }
  ]
}