{
  "nbformat": 4,
  "nbformat_minor": 0,
  "metadata": {
    "colab": {
      "name": "EjercicioPM2.5.ipynb",
      "provenance": []
    },
    "kernelspec": {
      "name": "python3",
      "display_name": "Python 3"
    },
    "language_info": {
      "name": "python"
    }
  },
  "cells": [
    {
      "cell_type": "markdown",
      "metadata": {
        "id": "MeZ9EXheH1JE"
      },
      "source": [
        "# **IMPORTACIÓN DE DATOS**\n",
        "\n",
        "---\n",
        "\n"
      ]
    },
    {
      "cell_type": "markdown",
      "metadata": {
        "id": "nw5weKc3VcCx"
      },
      "source": [
        "## **I. IMPORTAR LIBRERIAS**"
      ]
    },
    {
      "cell_type": "code",
      "metadata": {
        "id": "x0EzQSuKZY-C"
      },
      "source": [
        "import pandas as pd\n",
        "import numpy as np\n",
        "import matplotlib as mpl\n",
        "import matplotlib.pyplot as plt\n",
        "import matplotlib.dates as mdates"
      ],
      "execution_count": 2,
      "outputs": []
    },
    {
      "cell_type": "code",
      "metadata": {
        "id": "CDdlQ01DMmhM"
      },
      "source": [
        "import seaborn as sns\n",
        "from seaborn import load_dataset"
      ],
      "execution_count": 3,
      "outputs": []
    },
    {
      "cell_type": "markdown",
      "metadata": {
        "id": "qUafKh3oVh7E"
      },
      "source": [
        "## **II.CARGAR DATASET**"
      ]
    },
    {
      "cell_type": "code",
      "metadata": {
        "colab": {
          "base_uri": "https://localhost:8080/"
        },
        "id": "XNdigT_KZjwX",
        "outputId": "82cb7c36-3ac8-4280-cc3f-0ffd33e99681"
      },
      "source": [
        "from google.colab import drive\n",
        "drive.mount('/content/gdrive')"
      ],
      "execution_count": 4,
      "outputs": [
        {
          "output_type": "stream",
          "text": [
            "Mounted at /content/gdrive\n"
          ],
          "name": "stdout"
        }
      ]
    },
    {
      "cell_type": "code",
      "metadata": {
        "id": "tiypcEzLZtlh"
      },
      "source": [
        "dataset= pd.read_csv(\"gdrive/MyDrive/DATA/PM2.5/PRSA_data_2010.1.1-2014.12.31.csv\", engine='python')"
      ],
      "execution_count": 5,
      "outputs": []
    },
    {
      "cell_type": "markdown",
      "metadata": {
        "id": "nIvxorvtVonc"
      },
      "source": [
        "## **III.DESPLEGAR INFORMACION DATASET**"
      ]
    },
    {
      "cell_type": "code",
      "metadata": {
        "id": "AKPaujD-Z2XR"
      },
      "source": [
        "dataset.info()\n",
        "print(\"\\n\")\n",
        "print(\"Database size:\",dataset.shape)"
      ],
      "execution_count": null,
      "outputs": []
    },
    {
      "cell_type": "code",
      "metadata": {
        "id": "xDS8dBro_Cfg"
      },
      "source": [
        "print(dataset.dtypes)"
      ],
      "execution_count": null,
      "outputs": []
    },
    {
      "cell_type": "code",
      "metadata": {
        "id": "UzFD61ZV_KI7"
      },
      "source": [
        "dataset.describe()"
      ],
      "execution_count": null,
      "outputs": []
    },
    {
      "cell_type": "code",
      "metadata": {
        "id": "F8PBEWvYJaDH"
      },
      "source": [
        "dataset.head()"
      ],
      "execution_count": null,
      "outputs": []
    },
    {
      "cell_type": "code",
      "metadata": {
        "id": "XAP9LoNAKIWI"
      },
      "source": [
        "dataset.tail()"
      ],
      "execution_count": null,
      "outputs": []
    },
    {
      "cell_type": "markdown",
      "metadata": {
        "id": "U7uzgXOKH-sm"
      },
      "source": [
        "# **ACTIVIDADES**\n",
        "\n",
        "---\n",
        "\n"
      ]
    },
    {
      "cell_type": "markdown",
      "metadata": {
        "id": "Zs0wh3W5UiDD"
      },
      "source": [
        "## 1. Consideraciones sobre índices\n",
        "\n",
        "\n"
      ]
    },
    {
      "cell_type": "markdown",
      "metadata": {
        "id": "eT9U7LcXLNSm"
      },
      "source": [
        "Teniendo en cuenta la información del dataset, se considera pertintente para el análisis mantener las variables de: \n",
        "\n",
        "| Columna   | descripción                  |\n",
        "| :----:    |            :----:            |\n",
        "|year:      | Año de registro              |\n",
        "|month:     | Mes de registro              |  \n",
        "|day:       | Día de registro              |  \n",
        "|hour:      | Hora de registro             |   \n",
        "|pm2.5:     | Concentración de PM2.5       |\n",
        "|TEMP:      | Temperatura (â„ƒ)            |   \n",
        "|cbwd:      | Direccion Combinada Viento   |     \n",
        "\n",
        "\n",
        "\n",
        "\n",
        "Los anteriores índices se hallan pertinentes pues, con ellos se pueden establecer \"períodos críticos\" de pm2.5 concentrado en la ciudad. e.g.: &nbsp;\n",
        "\n",
        "**a) Incremento del indice pm2.5 en horas pico.**&nbsp;\n",
        "\n",
        "**b) Relación de la concentración de material particulado con fenómenos climáticos estacionales (pm2.5 vs. TEMP).** &nbsp;\n",
        "\n",
        "\n",
        "Al carecer de coordenadas geográficas exactas, se puede pronosticar **c)qué zona de la ciudad podría verse más afectada por la acumulación del mp2.5**, teniendo en cuenta la dirección combinada del viento (cbwd).\n"
      ]
    },
    {
      "cell_type": "markdown",
      "metadata": {
        "id": "zhGjU0FwK2ku"
      },
      "source": [
        "### **Seleccionar subconjunto de columnas**"
      ]
    },
    {
      "cell_type": "code",
      "metadata": {
        "colab": {
          "base_uri": "https://localhost:8080/"
        },
        "id": "m7fqijhHLHWe",
        "outputId": "b1417fc5-d2eb-423e-9f8e-c49b52ae0d6f"
      },
      "source": [
        "dataset.columns"
      ],
      "execution_count": 11,
      "outputs": [
        {
          "output_type": "execute_result",
          "data": {
            "text/plain": [
              "Index(['No', 'year', 'month', 'day', 'hour', 'pm2.5', 'DEWP', 'TEMP', 'PRES',\n",
              "       'cbwd', 'Iws', 'Is', 'Ir'],\n",
              "      dtype='object')"
            ]
          },
          "metadata": {
            "tags": []
          },
          "execution_count": 11
        }
      ]
    },
    {
      "cell_type": "markdown",
      "metadata": {
        "id": "qne98A-JgYCk"
      },
      "source": [
        "### *Drop* Variables no usables"
      ]
    },
    {
      "cell_type": "code",
      "metadata": {
        "colab": {
          "base_uri": "https://localhost:8080/"
        },
        "id": "67TXp1aEgjX8",
        "outputId": "2c51171a-1ad4-4ef1-d2ed-c21b601ac64d"
      },
      "source": [
        "no_use = dataset.drop(['No','DEWP','PRES','Iws','Is','Ir'], axis=1, inplace=False)\n",
        "print (no_use)"
      ],
      "execution_count": 12,
      "outputs": [
        {
          "output_type": "stream",
          "text": [
            "       year  month  day  hour  pm2.5  TEMP cbwd\n",
            "0      2010      1    1     0    NaN -11.0   NW\n",
            "1      2010      1    1     1    NaN -12.0   NW\n",
            "2      2010      1    1     2    NaN -11.0   NW\n",
            "3      2010      1    1     3    NaN -14.0   NW\n",
            "4      2010      1    1     4    NaN -12.0   NW\n",
            "...     ...    ...  ...   ...    ...   ...  ...\n",
            "43819  2014     12   31    19    8.0  -2.0   NW\n",
            "43820  2014     12   31    20   10.0  -3.0   NW\n",
            "43821  2014     12   31    21   10.0  -3.0   NW\n",
            "43822  2014     12   31    22    8.0  -4.0   NW\n",
            "43823  2014     12   31    23   12.0  -3.0   NW\n",
            "\n",
            "[43824 rows x 7 columns]\n"
          ],
          "name": "stdout"
        }
      ]
    },
    {
      "cell_type": "markdown",
      "metadata": {
        "id": "0ry6QeRAT3wy"
      },
      "source": [
        "### Convertir ***Fecha*** en única variable"
      ]
    },
    {
      "cell_type": "code",
      "metadata": {
        "colab": {
          "base_uri": "https://localhost:8080/"
        },
        "id": "Am1QXd2ULmFQ",
        "outputId": "8ec2d274-9e11-4d95-f217-739e97d72733"
      },
      "source": [
        "date = no_use[[\"year\",\"month\",\"day\",\"hour\"]]\n",
        "print(date)\n",
        "print (type(date))"
      ],
      "execution_count": 13,
      "outputs": [
        {
          "output_type": "stream",
          "text": [
            "       year  month  day  hour\n",
            "0      2010      1    1     0\n",
            "1      2010      1    1     1\n",
            "2      2010      1    1     2\n",
            "3      2010      1    1     3\n",
            "4      2010      1    1     4\n",
            "...     ...    ...  ...   ...\n",
            "43819  2014     12   31    19\n",
            "43820  2014     12   31    20\n",
            "43821  2014     12   31    21\n",
            "43822  2014     12   31    22\n",
            "43823  2014     12   31    23\n",
            "\n",
            "[43824 rows x 4 columns]\n",
            "<class 'pandas.core.frame.DataFrame'>\n"
          ],
          "name": "stdout"
        }
      ]
    },
    {
      "cell_type": "code",
      "metadata": {
        "id": "RYndcKHZM60k"
      },
      "source": [
        "no_use[\"date\"]=pd.to_datetime(date)"
      ],
      "execution_count": 14,
      "outputs": []
    },
    {
      "cell_type": "code",
      "metadata": {
        "id": "jNI_lyeVSY35"
      },
      "source": [
        "#no_use[\"date\"]=no_use[\"date\"].astype(np.int64)"
      ],
      "execution_count": 15,
      "outputs": []
    },
    {
      "cell_type": "code",
      "metadata": {
        "id": "poMqcVdvTbki"
      },
      "source": [
        "#no_use.head()"
      ],
      "execution_count": 16,
      "outputs": []
    },
    {
      "cell_type": "markdown",
      "metadata": {
        "id": "5kgXyKADQg-p"
      },
      "source": [
        "## 2. Eliminar registros NA en pm2.5"
      ]
    },
    {
      "cell_type": "code",
      "metadata": {
        "id": "NL5qF0UAHhmw"
      },
      "source": [
        "not_na = no_use[no_use[\"pm2.5\"].notna()]\n",
        "print (not_na.shape)\n",
        "print (dataset.shape)"
      ],
      "execution_count": null,
      "outputs": []
    },
    {
      "cell_type": "code",
      "metadata": {
        "id": "AtCglj9sPRmF"
      },
      "source": [
        "no_use.dropna(subset=['pm2.5'], axis=0, inplace=False)"
      ],
      "execution_count": null,
      "outputs": []
    },
    {
      "cell_type": "markdown",
      "metadata": {
        "id": "g787yVmAS3Km"
      },
      "source": [
        "## 3.a. Variables x Año"
      ]
    },
    {
      "cell_type": "code",
      "metadata": {
        "id": "1TxxMykNaoRo"
      },
      "source": [
        "diez = (not_na['year']==2010)\n",
        "once = (not_na['year']==2011)\n",
        "doce = (not_na['year']==2012)\n",
        "trece = (not_na['year']==2013)\n",
        "catorce = (not_na['year']==2014)"
      ],
      "execution_count": 22,
      "outputs": []
    },
    {
      "cell_type": "code",
      "metadata": {
        "colab": {
          "base_uri": "https://localhost:8080/",
          "height": 0
        },
        "id": "WCq0vfppcSyJ",
        "outputId": "6dcd33da-3f90-4d29-c29b-3f64c0e23779"
      },
      "source": [
        "not_na[diez].describe()"
      ],
      "execution_count": 23,
      "outputs": [
        {
          "output_type": "execute_result",
          "data": {
            "text/html": [
              "<div>\n",
              "<style scoped>\n",
              "    .dataframe tbody tr th:only-of-type {\n",
              "        vertical-align: middle;\n",
              "    }\n",
              "\n",
              "    .dataframe tbody tr th {\n",
              "        vertical-align: top;\n",
              "    }\n",
              "\n",
              "    .dataframe thead th {\n",
              "        text-align: right;\n",
              "    }\n",
              "</style>\n",
              "<table border=\"1\" class=\"dataframe\">\n",
              "  <thead>\n",
              "    <tr style=\"text-align: right;\">\n",
              "      <th></th>\n",
              "      <th>year</th>\n",
              "      <th>month</th>\n",
              "      <th>day</th>\n",
              "      <th>hour</th>\n",
              "      <th>pm2.5</th>\n",
              "      <th>TEMP</th>\n",
              "    </tr>\n",
              "  </thead>\n",
              "  <tbody>\n",
              "    <tr>\n",
              "      <th>count</th>\n",
              "      <td>8091.0</td>\n",
              "      <td>8091.000000</td>\n",
              "      <td>8091.000000</td>\n",
              "      <td>8091.000000</td>\n",
              "      <td>8091.000000</td>\n",
              "      <td>8091.000000</td>\n",
              "    </tr>\n",
              "    <tr>\n",
              "      <th>mean</th>\n",
              "      <td>2010.0</td>\n",
              "      <td>6.494747</td>\n",
              "      <td>15.590656</td>\n",
              "      <td>11.493511</td>\n",
              "      <td>104.045730</td>\n",
              "      <td>11.313805</td>\n",
              "    </tr>\n",
              "    <tr>\n",
              "      <th>std</th>\n",
              "      <td>0.0</td>\n",
              "      <td>3.480238</td>\n",
              "      <td>8.680500</td>\n",
              "      <td>6.935037</td>\n",
              "      <td>92.281185</td>\n",
              "      <td>12.684701</td>\n",
              "    </tr>\n",
              "    <tr>\n",
              "      <th>min</th>\n",
              "      <td>2010.0</td>\n",
              "      <td>1.000000</td>\n",
              "      <td>1.000000</td>\n",
              "      <td>0.000000</td>\n",
              "      <td>1.000000</td>\n",
              "      <td>-19.000000</td>\n",
              "    </tr>\n",
              "    <tr>\n",
              "      <th>25%</th>\n",
              "      <td>2010.0</td>\n",
              "      <td>3.000000</td>\n",
              "      <td>8.000000</td>\n",
              "      <td>5.000000</td>\n",
              "      <td>35.000000</td>\n",
              "      <td>0.000000</td>\n",
              "    </tr>\n",
              "    <tr>\n",
              "      <th>50%</th>\n",
              "      <td>2010.0</td>\n",
              "      <td>6.000000</td>\n",
              "      <td>16.000000</td>\n",
              "      <td>12.000000</td>\n",
              "      <td>79.000000</td>\n",
              "      <td>11.000000</td>\n",
              "    </tr>\n",
              "    <tr>\n",
              "      <th>75%</th>\n",
              "      <td>2010.0</td>\n",
              "      <td>10.000000</td>\n",
              "      <td>23.000000</td>\n",
              "      <td>18.000000</td>\n",
              "      <td>147.000000</td>\n",
              "      <td>23.000000</td>\n",
              "    </tr>\n",
              "    <tr>\n",
              "      <th>max</th>\n",
              "      <td>2010.0</td>\n",
              "      <td>12.000000</td>\n",
              "      <td>31.000000</td>\n",
              "      <td>23.000000</td>\n",
              "      <td>980.000000</td>\n",
              "      <td>41.000000</td>\n",
              "    </tr>\n",
              "  </tbody>\n",
              "</table>\n",
              "</div>"
            ],
            "text/plain": [
              "         year        month          day         hour        pm2.5         TEMP\n",
              "count  8091.0  8091.000000  8091.000000  8091.000000  8091.000000  8091.000000\n",
              "mean   2010.0     6.494747    15.590656    11.493511   104.045730    11.313805\n",
              "std       0.0     3.480238     8.680500     6.935037    92.281185    12.684701\n",
              "min    2010.0     1.000000     1.000000     0.000000     1.000000   -19.000000\n",
              "25%    2010.0     3.000000     8.000000     5.000000    35.000000     0.000000\n",
              "50%    2010.0     6.000000    16.000000    12.000000    79.000000    11.000000\n",
              "75%    2010.0    10.000000    23.000000    18.000000   147.000000    23.000000\n",
              "max    2010.0    12.000000    31.000000    23.000000   980.000000    41.000000"
            ]
          },
          "metadata": {
            "tags": []
          },
          "execution_count": 23
        }
      ]
    },
    {
      "cell_type": "code",
      "metadata": {
        "colab": {
          "base_uri": "https://localhost:8080/",
          "height": 0
        },
        "id": "tJrjq8RMdBLz",
        "outputId": "ef4c340f-844e-4173-eb0c-fc8c1ab5f51e"
      },
      "source": [
        "not_na[once].describe()"
      ],
      "execution_count": 24,
      "outputs": [
        {
          "output_type": "execute_result",
          "data": {
            "text/html": [
              "<div>\n",
              "<style scoped>\n",
              "    .dataframe tbody tr th:only-of-type {\n",
              "        vertical-align: middle;\n",
              "    }\n",
              "\n",
              "    .dataframe tbody tr th {\n",
              "        vertical-align: top;\n",
              "    }\n",
              "\n",
              "    .dataframe thead th {\n",
              "        text-align: right;\n",
              "    }\n",
              "</style>\n",
              "<table border=\"1\" class=\"dataframe\">\n",
              "  <thead>\n",
              "    <tr style=\"text-align: right;\">\n",
              "      <th></th>\n",
              "      <th>year</th>\n",
              "      <th>month</th>\n",
              "      <th>day</th>\n",
              "      <th>hour</th>\n",
              "      <th>pm2.5</th>\n",
              "      <th>TEMP</th>\n",
              "    </tr>\n",
              "  </thead>\n",
              "  <tbody>\n",
              "    <tr>\n",
              "      <th>count</th>\n",
              "      <td>8032.0</td>\n",
              "      <td>8032.000000</td>\n",
              "      <td>8032.000000</td>\n",
              "      <td>8032.000000</td>\n",
              "      <td>8032.000000</td>\n",
              "      <td>8032.000000</td>\n",
              "    </tr>\n",
              "    <tr>\n",
              "      <th>mean</th>\n",
              "      <td>2011.0</td>\n",
              "      <td>6.601096</td>\n",
              "      <td>15.966633</td>\n",
              "      <td>11.509836</td>\n",
              "      <td>99.071340</td>\n",
              "      <td>12.407869</td>\n",
              "    </tr>\n",
              "    <tr>\n",
              "      <th>std</th>\n",
              "      <td>0.0</td>\n",
              "      <td>3.477195</td>\n",
              "      <td>8.739076</td>\n",
              "      <td>6.910975</td>\n",
              "      <td>92.967298</td>\n",
              "      <td>12.095837</td>\n",
              "    </tr>\n",
              "    <tr>\n",
              "      <th>min</th>\n",
              "      <td>2011.0</td>\n",
              "      <td>1.000000</td>\n",
              "      <td>1.000000</td>\n",
              "      <td>0.000000</td>\n",
              "      <td>2.000000</td>\n",
              "      <td>-15.000000</td>\n",
              "    </tr>\n",
              "    <tr>\n",
              "      <th>25%</th>\n",
              "      <td>2011.0</td>\n",
              "      <td>4.000000</td>\n",
              "      <td>9.000000</td>\n",
              "      <td>6.000000</td>\n",
              "      <td>27.000000</td>\n",
              "      <td>2.000000</td>\n",
              "    </tr>\n",
              "    <tr>\n",
              "      <th>50%</th>\n",
              "      <td>2011.0</td>\n",
              "      <td>7.000000</td>\n",
              "      <td>16.000000</td>\n",
              "      <td>12.000000</td>\n",
              "      <td>71.000000</td>\n",
              "      <td>14.000000</td>\n",
              "    </tr>\n",
              "    <tr>\n",
              "      <th>75%</th>\n",
              "      <td>2011.0</td>\n",
              "      <td>10.000000</td>\n",
              "      <td>24.000000</td>\n",
              "      <td>17.000000</td>\n",
              "      <td>139.000000</td>\n",
              "      <td>23.000000</td>\n",
              "    </tr>\n",
              "    <tr>\n",
              "      <th>max</th>\n",
              "      <td>2011.0</td>\n",
              "      <td>12.000000</td>\n",
              "      <td>31.000000</td>\n",
              "      <td>23.000000</td>\n",
              "      <td>595.000000</td>\n",
              "      <td>36.000000</td>\n",
              "    </tr>\n",
              "  </tbody>\n",
              "</table>\n",
              "</div>"
            ],
            "text/plain": [
              "         year        month          day         hour        pm2.5         TEMP\n",
              "count  8032.0  8032.000000  8032.000000  8032.000000  8032.000000  8032.000000\n",
              "mean   2011.0     6.601096    15.966633    11.509836    99.071340    12.407869\n",
              "std       0.0     3.477195     8.739076     6.910975    92.967298    12.095837\n",
              "min    2011.0     1.000000     1.000000     0.000000     2.000000   -15.000000\n",
              "25%    2011.0     4.000000     9.000000     6.000000    27.000000     2.000000\n",
              "50%    2011.0     7.000000    16.000000    12.000000    71.000000    14.000000\n",
              "75%    2011.0    10.000000    24.000000    17.000000   139.000000    23.000000\n",
              "max    2011.0    12.000000    31.000000    23.000000   595.000000    36.000000"
            ]
          },
          "metadata": {
            "tags": []
          },
          "execution_count": 24
        }
      ]
    },
    {
      "cell_type": "code",
      "metadata": {
        "colab": {
          "base_uri": "https://localhost:8080/",
          "height": 0
        },
        "id": "hhYFM8pedBi4",
        "outputId": "cf412c82-70b6-4d15-e24d-60a42074c7d8"
      },
      "source": [
        "not_na[doce].describe()"
      ],
      "execution_count": 25,
      "outputs": [
        {
          "output_type": "execute_result",
          "data": {
            "text/html": [
              "<div>\n",
              "<style scoped>\n",
              "    .dataframe tbody tr th:only-of-type {\n",
              "        vertical-align: middle;\n",
              "    }\n",
              "\n",
              "    .dataframe tbody tr th {\n",
              "        vertical-align: top;\n",
              "    }\n",
              "\n",
              "    .dataframe thead th {\n",
              "        text-align: right;\n",
              "    }\n",
              "</style>\n",
              "<table border=\"1\" class=\"dataframe\">\n",
              "  <thead>\n",
              "    <tr style=\"text-align: right;\">\n",
              "      <th></th>\n",
              "      <th>year</th>\n",
              "      <th>month</th>\n",
              "      <th>day</th>\n",
              "      <th>hour</th>\n",
              "      <th>pm2.5</th>\n",
              "      <th>TEMP</th>\n",
              "    </tr>\n",
              "  </thead>\n",
              "  <tbody>\n",
              "    <tr>\n",
              "      <th>count</th>\n",
              "      <td>8295.0</td>\n",
              "      <td>8295.000000</td>\n",
              "      <td>8295.000000</td>\n",
              "      <td>8295.000000</td>\n",
              "      <td>8295.000000</td>\n",
              "      <td>8295.000000</td>\n",
              "    </tr>\n",
              "    <tr>\n",
              "      <th>mean</th>\n",
              "      <td>2012.0</td>\n",
              "      <td>6.452200</td>\n",
              "      <td>15.471248</td>\n",
              "      <td>11.506088</td>\n",
              "      <td>90.545871</td>\n",
              "      <td>12.109946</td>\n",
              "    </tr>\n",
              "    <tr>\n",
              "      <th>std</th>\n",
              "      <td>0.0</td>\n",
              "      <td>3.425475</td>\n",
              "      <td>8.871717</td>\n",
              "      <td>6.927641</td>\n",
              "      <td>81.745087</td>\n",
              "      <td>12.339970</td>\n",
              "    </tr>\n",
              "    <tr>\n",
              "      <th>min</th>\n",
              "      <td>2012.0</td>\n",
              "      <td>1.000000</td>\n",
              "      <td>1.000000</td>\n",
              "      <td>0.000000</td>\n",
              "      <td>0.000000</td>\n",
              "      <td>-17.000000</td>\n",
              "    </tr>\n",
              "    <tr>\n",
              "      <th>25%</th>\n",
              "      <td>2012.0</td>\n",
              "      <td>3.000000</td>\n",
              "      <td>8.000000</td>\n",
              "      <td>5.000000</td>\n",
              "      <td>25.000000</td>\n",
              "      <td>1.000000</td>\n",
              "    </tr>\n",
              "    <tr>\n",
              "      <th>50%</th>\n",
              "      <td>2012.0</td>\n",
              "      <td>6.000000</td>\n",
              "      <td>15.000000</td>\n",
              "      <td>12.000000</td>\n",
              "      <td>69.000000</td>\n",
              "      <td>14.000000</td>\n",
              "    </tr>\n",
              "    <tr>\n",
              "      <th>75%</th>\n",
              "      <td>2012.0</td>\n",
              "      <td>9.000000</td>\n",
              "      <td>23.000000</td>\n",
              "      <td>18.000000</td>\n",
              "      <td>132.000000</td>\n",
              "      <td>23.000000</td>\n",
              "    </tr>\n",
              "    <tr>\n",
              "      <th>max</th>\n",
              "      <td>2012.0</td>\n",
              "      <td>12.000000</td>\n",
              "      <td>31.000000</td>\n",
              "      <td>23.000000</td>\n",
              "      <td>994.000000</td>\n",
              "      <td>38.000000</td>\n",
              "    </tr>\n",
              "  </tbody>\n",
              "</table>\n",
              "</div>"
            ],
            "text/plain": [
              "         year        month          day         hour        pm2.5         TEMP\n",
              "count  8295.0  8295.000000  8295.000000  8295.000000  8295.000000  8295.000000\n",
              "mean   2012.0     6.452200    15.471248    11.506088    90.545871    12.109946\n",
              "std       0.0     3.425475     8.871717     6.927641    81.745087    12.339970\n",
              "min    2012.0     1.000000     1.000000     0.000000     0.000000   -17.000000\n",
              "25%    2012.0     3.000000     8.000000     5.000000    25.000000     1.000000\n",
              "50%    2012.0     6.000000    15.000000    12.000000    69.000000    14.000000\n",
              "75%    2012.0     9.000000    23.000000    18.000000   132.000000    23.000000\n",
              "max    2012.0    12.000000    31.000000    23.000000   994.000000    38.000000"
            ]
          },
          "metadata": {
            "tags": []
          },
          "execution_count": 25
        }
      ]
    },
    {
      "cell_type": "code",
      "metadata": {
        "colab": {
          "base_uri": "https://localhost:8080/",
          "height": 0
        },
        "id": "Z5Ueh-H8dBzZ",
        "outputId": "50b66377-0493-4da2-91b1-9acc46973f01"
      },
      "source": [
        "not_na[trece].describe()"
      ],
      "execution_count": 26,
      "outputs": [
        {
          "output_type": "execute_result",
          "data": {
            "text/html": [
              "<div>\n",
              "<style scoped>\n",
              "    .dataframe tbody tr th:only-of-type {\n",
              "        vertical-align: middle;\n",
              "    }\n",
              "\n",
              "    .dataframe tbody tr th {\n",
              "        vertical-align: top;\n",
              "    }\n",
              "\n",
              "    .dataframe thead th {\n",
              "        text-align: right;\n",
              "    }\n",
              "</style>\n",
              "<table border=\"1\" class=\"dataframe\">\n",
              "  <thead>\n",
              "    <tr style=\"text-align: right;\">\n",
              "      <th></th>\n",
              "      <th>year</th>\n",
              "      <th>month</th>\n",
              "      <th>day</th>\n",
              "      <th>hour</th>\n",
              "      <th>pm2.5</th>\n",
              "      <th>TEMP</th>\n",
              "    </tr>\n",
              "  </thead>\n",
              "  <tbody>\n",
              "    <tr>\n",
              "      <th>count</th>\n",
              "      <td>8678.0</td>\n",
              "      <td>8678.000000</td>\n",
              "      <td>8678.000000</td>\n",
              "      <td>8678.000000</td>\n",
              "      <td>8678.000000</td>\n",
              "      <td>8678.000000</td>\n",
              "    </tr>\n",
              "    <tr>\n",
              "      <th>mean</th>\n",
              "      <td>2013.0</td>\n",
              "      <td>6.517516</td>\n",
              "      <td>15.674464</td>\n",
              "      <td>11.497580</td>\n",
              "      <td>101.712376</td>\n",
              "      <td>12.383614</td>\n",
              "    </tr>\n",
              "    <tr>\n",
              "      <th>std</th>\n",
              "      <td>0.0</td>\n",
              "      <td>3.446639</td>\n",
              "      <td>8.797737</td>\n",
              "      <td>6.927949</td>\n",
              "      <td>98.070477</td>\n",
              "      <td>12.033222</td>\n",
              "    </tr>\n",
              "    <tr>\n",
              "      <th>min</th>\n",
              "      <td>2013.0</td>\n",
              "      <td>1.000000</td>\n",
              "      <td>1.000000</td>\n",
              "      <td>0.000000</td>\n",
              "      <td>2.000000</td>\n",
              "      <td>-17.000000</td>\n",
              "    </tr>\n",
              "    <tr>\n",
              "      <th>25%</th>\n",
              "      <td>2013.0</td>\n",
              "      <td>4.000000</td>\n",
              "      <td>8.000000</td>\n",
              "      <td>5.000000</td>\n",
              "      <td>32.000000</td>\n",
              "      <td>2.000000</td>\n",
              "    </tr>\n",
              "    <tr>\n",
              "      <th>50%</th>\n",
              "      <td>2013.0</td>\n",
              "      <td>7.000000</td>\n",
              "      <td>16.000000</td>\n",
              "      <td>11.000000</td>\n",
              "      <td>71.500000</td>\n",
              "      <td>13.000000</td>\n",
              "    </tr>\n",
              "    <tr>\n",
              "      <th>75%</th>\n",
              "      <td>2013.0</td>\n",
              "      <td>10.000000</td>\n",
              "      <td>23.000000</td>\n",
              "      <td>18.000000</td>\n",
              "      <td>138.000000</td>\n",
              "      <td>23.000000</td>\n",
              "    </tr>\n",
              "    <tr>\n",
              "      <th>max</th>\n",
              "      <td>2013.0</td>\n",
              "      <td>12.000000</td>\n",
              "      <td>31.000000</td>\n",
              "      <td>23.000000</td>\n",
              "      <td>886.000000</td>\n",
              "      <td>38.000000</td>\n",
              "    </tr>\n",
              "  </tbody>\n",
              "</table>\n",
              "</div>"
            ],
            "text/plain": [
              "         year        month          day         hour        pm2.5         TEMP\n",
              "count  8678.0  8678.000000  8678.000000  8678.000000  8678.000000  8678.000000\n",
              "mean   2013.0     6.517516    15.674464    11.497580   101.712376    12.383614\n",
              "std       0.0     3.446639     8.797737     6.927949    98.070477    12.033222\n",
              "min    2013.0     1.000000     1.000000     0.000000     2.000000   -17.000000\n",
              "25%    2013.0     4.000000     8.000000     5.000000    32.000000     2.000000\n",
              "50%    2013.0     7.000000    16.000000    11.000000    71.500000    13.000000\n",
              "75%    2013.0    10.000000    23.000000    18.000000   138.000000    23.000000\n",
              "max    2013.0    12.000000    31.000000    23.000000   886.000000    38.000000"
            ]
          },
          "metadata": {
            "tags": []
          },
          "execution_count": 26
        }
      ]
    },
    {
      "cell_type": "code",
      "metadata": {
        "colab": {
          "base_uri": "https://localhost:8080/",
          "height": 0
        },
        "id": "1lsXwrZPdG_Q",
        "outputId": "5be7f7e4-9cf0-414c-ffab-f5d34b6b7e59"
      },
      "source": [
        "not_na[catorce].describe()"
      ],
      "execution_count": 27,
      "outputs": [
        {
          "output_type": "execute_result",
          "data": {
            "text/html": [
              "<div>\n",
              "<style scoped>\n",
              "    .dataframe tbody tr th:only-of-type {\n",
              "        vertical-align: middle;\n",
              "    }\n",
              "\n",
              "    .dataframe tbody tr th {\n",
              "        vertical-align: top;\n",
              "    }\n",
              "\n",
              "    .dataframe thead th {\n",
              "        text-align: right;\n",
              "    }\n",
              "</style>\n",
              "<table border=\"1\" class=\"dataframe\">\n",
              "  <thead>\n",
              "    <tr style=\"text-align: right;\">\n",
              "      <th></th>\n",
              "      <th>year</th>\n",
              "      <th>month</th>\n",
              "      <th>day</th>\n",
              "      <th>hour</th>\n",
              "      <th>pm2.5</th>\n",
              "      <th>TEMP</th>\n",
              "    </tr>\n",
              "  </thead>\n",
              "  <tbody>\n",
              "    <tr>\n",
              "      <th>count</th>\n",
              "      <td>8661.0</td>\n",
              "      <td>8661.000000</td>\n",
              "      <td>8661.000000</td>\n",
              "      <td>8661.000000</td>\n",
              "      <td>8661.000000</td>\n",
              "      <td>8661.000000</td>\n",
              "    </tr>\n",
              "    <tr>\n",
              "      <th>mean</th>\n",
              "      <td>2014.0</td>\n",
              "      <td>6.505715</td>\n",
              "      <td>15.729708</td>\n",
              "      <td>11.504676</td>\n",
              "      <td>97.734557</td>\n",
              "      <td>13.709156</td>\n",
              "    </tr>\n",
              "    <tr>\n",
              "      <th>std</th>\n",
              "      <td>0.0</td>\n",
              "      <td>3.442517</td>\n",
              "      <td>8.825550</td>\n",
              "      <td>6.923977</td>\n",
              "      <td>93.531528</td>\n",
              "      <td>11.616259</td>\n",
              "    </tr>\n",
              "    <tr>\n",
              "      <th>min</th>\n",
              "      <td>2014.0</td>\n",
              "      <td>1.000000</td>\n",
              "      <td>1.000000</td>\n",
              "      <td>0.000000</td>\n",
              "      <td>2.000000</td>\n",
              "      <td>-13.000000</td>\n",
              "    </tr>\n",
              "    <tr>\n",
              "      <th>25%</th>\n",
              "      <td>2014.0</td>\n",
              "      <td>4.000000</td>\n",
              "      <td>8.000000</td>\n",
              "      <td>6.000000</td>\n",
              "      <td>28.000000</td>\n",
              "      <td>3.000000</td>\n",
              "    </tr>\n",
              "    <tr>\n",
              "      <th>50%</th>\n",
              "      <td>2014.0</td>\n",
              "      <td>7.000000</td>\n",
              "      <td>16.000000</td>\n",
              "      <td>12.000000</td>\n",
              "      <td>72.000000</td>\n",
              "      <td>15.000000</td>\n",
              "    </tr>\n",
              "    <tr>\n",
              "      <th>75%</th>\n",
              "      <td>2014.0</td>\n",
              "      <td>9.000000</td>\n",
              "      <td>23.000000</td>\n",
              "      <td>18.000000</td>\n",
              "      <td>133.000000</td>\n",
              "      <td>23.000000</td>\n",
              "    </tr>\n",
              "    <tr>\n",
              "      <th>max</th>\n",
              "      <td>2014.0</td>\n",
              "      <td>12.000000</td>\n",
              "      <td>31.000000</td>\n",
              "      <td>23.000000</td>\n",
              "      <td>671.000000</td>\n",
              "      <td>42.000000</td>\n",
              "    </tr>\n",
              "  </tbody>\n",
              "</table>\n",
              "</div>"
            ],
            "text/plain": [
              "         year        month          day         hour        pm2.5         TEMP\n",
              "count  8661.0  8661.000000  8661.000000  8661.000000  8661.000000  8661.000000\n",
              "mean   2014.0     6.505715    15.729708    11.504676    97.734557    13.709156\n",
              "std       0.0     3.442517     8.825550     6.923977    93.531528    11.616259\n",
              "min    2014.0     1.000000     1.000000     0.000000     2.000000   -13.000000\n",
              "25%    2014.0     4.000000     8.000000     6.000000    28.000000     3.000000\n",
              "50%    2014.0     7.000000    16.000000    12.000000    72.000000    15.000000\n",
              "75%    2014.0     9.000000    23.000000    18.000000   133.000000    23.000000\n",
              "max    2014.0    12.000000    31.000000    23.000000   671.000000    42.000000"
            ]
          },
          "metadata": {
            "tags": []
          },
          "execution_count": 27
        }
      ]
    },
    {
      "cell_type": "markdown",
      "metadata": {
        "id": "iFbsrtQ4i5EM"
      },
      "source": [
        "## 3.b. Gráfico Variación **pm2.5** *v.s.* **año**"
      ]
    },
    {
      "cell_type": "code",
      "metadata": {
        "id": "5vUOr4iFe2jd"
      },
      "source": [
        "X=not_na['year']\n",
        "Y=not_na['pm2.5'].values\n",
        "Z=not_na['TEMP'].values"
      ],
      "execution_count": 28,
      "outputs": []
    },
    {
      "cell_type": "code",
      "metadata": {
        "colab": {
          "base_uri": "https://localhost:8080/",
          "height": 285
        },
        "id": "jGgduJd3yup-",
        "outputId": "f9ac40db-7293-4cda-94a8-5429f32ab2bc"
      },
      "source": [
        "import seaborn as sns\n",
        "sns.set_theme(style=\"whitegrid\")\n",
        "ax = sns.boxplot(x=not_na[\"year\"], y=not_na[\"pm2.5\"])"
      ],
      "execution_count": 29,
      "outputs": [
        {
          "output_type": "display_data",
          "data": {
            "image/png": "[encoded data removed]",
            "text/plain": [
              "<Figure size 432x288 with 1 Axes>"
            ]
          },
          "metadata": {
            "tags": []
          }
        }
      ]
    },
    {
      "cell_type": "markdown",
      "metadata": {
        "id": "jc3MDlQY66xo"
      },
      "source": [
        "> Podemos inferir que la Cantidad Anual Concentrada de pm2.5 en la ciudad de Beijing oscila entre los 90 y 105 $ug/m^3$ promedio registro. Siendo el año 2012 el caso con menos unidades concentradas promedio (90.545871\t $ug/m^3$)\n"
      ]
    },
    {
      "cell_type": "markdown",
      "metadata": {
        "id": "--CdRICM_h6V"
      },
      "source": [
        "## 4. Gráfico de disperción **TEMP** *v.s.* **PM2.5**"
      ]
    },
    {
      "cell_type": "code",
      "metadata": {
        "id": "GdBMIluyC71G"
      },
      "source": [
        "colores=['blue','red','orange']\n",
        "tamanios=[30,60]"
      ],
      "execution_count": 30,
      "outputs": []
    },
    {
      "cell_type": "code",
      "metadata": {
        "colab": {
          "base_uri": "https://localhost:8080/",
          "height": 301
        },
        "id": "BsesEbPQC8tv",
        "outputId": "27f7f113-53d1-451a-fe63-ebc90c28e19b"
      },
      "source": [
        "asignar=[]\n",
        "lista1=[]\n",
        "lista2=[]\n",
        "for index, row in not_na.iterrows():\n",
        "    if(row['pm2.5'] >500) :\n",
        "        asignar.append(colores[0])\n",
        "        lista1.append\n",
        "    else:\n",
        "        asignar.append(colores[1])\n",
        "        lista2.append\n",
        "\n",
        "plt.scatter(Z, Y, c=asignar, s=tamanios[0])\n",
        "plt.title('Relación TEMP-PM2.5')\n",
        "plt.xlabel('Temperatura (Cº)')\n",
        "plt.ylabel('PM2.5')\n",
        "plt.plot(lista1, label = \"Niveles Peligrosos PM2.5\", marker = 'o')\n",
        "plt.legend()\n",
        "plt.show()"
      ],
      "execution_count": 52,
      "outputs": [
        {
          "output_type": "display_data",
          "data": {
            "image/png": "[encoded data removed]",
            "text/plain": [
              "<Figure size 432x288 with 1 Axes>"
            ]
          },
          "metadata": {
            "tags": []
          }
        }
      ]
    },
    {
      "cell_type": "markdown",
      "metadata": {
        "id": "agtkLVx2F0ZQ"
      },
      "source": [
        ">En la ciudad de Beijing, existe una tendencia a concentrar unidades de PM2.5 mayores al permitido por el Indice de Calidad de Aire de los Estados Unidos (U.S. AQI) en temperaturas $-0^{\\circ}$C "
      ]
    },
    {
      "cell_type": "markdown",
      "metadata": {
        "id": "RQ_kBbBAH40V"
      },
      "source": [
        "## 5. Cálculo PM2.5 > 120"
      ]
    },
    {
      "cell_type": "code",
      "metadata": {
        "id": "xsqt6vxOpd5-"
      },
      "source": [
        "elevated=not_na[not_na['pm2.5'] > 120]"
      ],
      "execution_count": 44,
      "outputs": []
    },
    {
      "cell_type": "code",
      "metadata": {
        "colab": {
          "base_uri": "https://localhost:8080/",
          "height": 419
        },
        "id": "X8e0HEfKptLj",
        "outputId": "8d813a92-82d1-4474-a1c8-411b4b7b9ea1"
      },
      "source": [
        "elevated"
      ],
      "execution_count": 45,
      "outputs": [
        {
          "output_type": "execute_result",
          "data": {
            "text/html": [
              "<div>\n",
              "<style scoped>\n",
              "    .dataframe tbody tr th:only-of-type {\n",
              "        vertical-align: middle;\n",
              "    }\n",
              "\n",
              "    .dataframe tbody tr th {\n",
              "        vertical-align: top;\n",
              "    }\n",
              "\n",
              "    .dataframe thead th {\n",
              "        text-align: right;\n",
              "    }\n",
              "</style>\n",
              "<table border=\"1\" class=\"dataframe\">\n",
              "  <thead>\n",
              "    <tr style=\"text-align: right;\">\n",
              "      <th></th>\n",
              "      <th>year</th>\n",
              "      <th>month</th>\n",
              "      <th>day</th>\n",
              "      <th>hour</th>\n",
              "      <th>pm2.5</th>\n",
              "      <th>TEMP</th>\n",
              "      <th>cbwd</th>\n",
              "      <th>date</th>\n",
              "    </tr>\n",
              "  </thead>\n",
              "  <tbody>\n",
              "    <tr>\n",
              "      <th>24</th>\n",
              "      <td>2010</td>\n",
              "      <td>1</td>\n",
              "      <td>2</td>\n",
              "      <td>0</td>\n",
              "      <td>129.0</td>\n",
              "      <td>-4.0</td>\n",
              "      <td>SE</td>\n",
              "      <td>2010-01-02 00:00:00</td>\n",
              "    </tr>\n",
              "    <tr>\n",
              "      <th>25</th>\n",
              "      <td>2010</td>\n",
              "      <td>1</td>\n",
              "      <td>2</td>\n",
              "      <td>1</td>\n",
              "      <td>148.0</td>\n",
              "      <td>-4.0</td>\n",
              "      <td>SE</td>\n",
              "      <td>2010-01-02 01:00:00</td>\n",
              "    </tr>\n",
              "    <tr>\n",
              "      <th>26</th>\n",
              "      <td>2010</td>\n",
              "      <td>1</td>\n",
              "      <td>2</td>\n",
              "      <td>2</td>\n",
              "      <td>159.0</td>\n",
              "      <td>-5.0</td>\n",
              "      <td>SE</td>\n",
              "      <td>2010-01-02 02:00:00</td>\n",
              "    </tr>\n",
              "    <tr>\n",
              "      <th>27</th>\n",
              "      <td>2010</td>\n",
              "      <td>1</td>\n",
              "      <td>2</td>\n",
              "      <td>3</td>\n",
              "      <td>181.0</td>\n",
              "      <td>-5.0</td>\n",
              "      <td>SE</td>\n",
              "      <td>2010-01-02 03:00:00</td>\n",
              "    </tr>\n",
              "    <tr>\n",
              "      <th>28</th>\n",
              "      <td>2010</td>\n",
              "      <td>1</td>\n",
              "      <td>2</td>\n",
              "      <td>4</td>\n",
              "      <td>138.0</td>\n",
              "      <td>-5.0</td>\n",
              "      <td>SE</td>\n",
              "      <td>2010-01-02 04:00:00</td>\n",
              "    </tr>\n",
              "    <tr>\n",
              "      <th>...</th>\n",
              "      <td>...</td>\n",
              "      <td>...</td>\n",
              "      <td>...</td>\n",
              "      <td>...</td>\n",
              "      <td>...</td>\n",
              "      <td>...</td>\n",
              "      <td>...</td>\n",
              "      <td>...</td>\n",
              "    </tr>\n",
              "    <tr>\n",
              "      <th>43763</th>\n",
              "      <td>2014</td>\n",
              "      <td>12</td>\n",
              "      <td>29</td>\n",
              "      <td>11</td>\n",
              "      <td>134.0</td>\n",
              "      <td>5.0</td>\n",
              "      <td>cv</td>\n",
              "      <td>2014-12-29 11:00:00</td>\n",
              "    </tr>\n",
              "    <tr>\n",
              "      <th>43773</th>\n",
              "      <td>2014</td>\n",
              "      <td>12</td>\n",
              "      <td>29</td>\n",
              "      <td>21</td>\n",
              "      <td>128.0</td>\n",
              "      <td>0.0</td>\n",
              "      <td>cv</td>\n",
              "      <td>2014-12-29 21:00:00</td>\n",
              "    </tr>\n",
              "    <tr>\n",
              "      <th>43774</th>\n",
              "      <td>2014</td>\n",
              "      <td>12</td>\n",
              "      <td>29</td>\n",
              "      <td>22</td>\n",
              "      <td>164.0</td>\n",
              "      <td>-3.0</td>\n",
              "      <td>NE</td>\n",
              "      <td>2014-12-29 22:00:00</td>\n",
              "    </tr>\n",
              "    <tr>\n",
              "      <th>43775</th>\n",
              "      <td>2014</td>\n",
              "      <td>12</td>\n",
              "      <td>29</td>\n",
              "      <td>23</td>\n",
              "      <td>159.0</td>\n",
              "      <td>-3.0</td>\n",
              "      <td>NW</td>\n",
              "      <td>2014-12-29 23:00:00</td>\n",
              "    </tr>\n",
              "    <tr>\n",
              "      <th>43776</th>\n",
              "      <td>2014</td>\n",
              "      <td>12</td>\n",
              "      <td>30</td>\n",
              "      <td>0</td>\n",
              "      <td>189.0</td>\n",
              "      <td>-2.0</td>\n",
              "      <td>cv</td>\n",
              "      <td>2014-12-30 00:00:00</td>\n",
              "    </tr>\n",
              "  </tbody>\n",
              "</table>\n",
              "<p>12483 rows × 8 columns</p>\n",
              "</div>"
            ],
            "text/plain": [
              "       year  month  day  hour  pm2.5  TEMP cbwd                date\n",
              "24     2010      1    2     0  129.0  -4.0   SE 2010-01-02 00:00:00\n",
              "25     2010      1    2     1  148.0  -4.0   SE 2010-01-02 01:00:00\n",
              "26     2010      1    2     2  159.0  -5.0   SE 2010-01-02 02:00:00\n",
              "27     2010      1    2     3  181.0  -5.0   SE 2010-01-02 03:00:00\n",
              "28     2010      1    2     4  138.0  -5.0   SE 2010-01-02 04:00:00\n",
              "...     ...    ...  ...   ...    ...   ...  ...                 ...\n",
              "43763  2014     12   29    11  134.0   5.0   cv 2014-12-29 11:00:00\n",
              "43773  2014     12   29    21  128.0   0.0   cv 2014-12-29 21:00:00\n",
              "43774  2014     12   29    22  164.0  -3.0   NE 2014-12-29 22:00:00\n",
              "43775  2014     12   29    23  159.0  -3.0   NW 2014-12-29 23:00:00\n",
              "43776  2014     12   30     0  189.0  -2.0   cv 2014-12-30 00:00:00\n",
              "\n",
              "[12483 rows x 8 columns]"
            ]
          },
          "metadata": {
            "tags": []
          },
          "execution_count": 45
        }
      ]
    },
    {
      "cell_type": "code",
      "metadata": {
        "colab": {
          "base_uri": "https://localhost:8080/"
        },
        "id": "gpFSP5YcqbI9",
        "outputId": "330c911c-104e-4023-e71f-503bfe018dac"
      },
      "source": [
        "elevated.info()"
      ],
      "execution_count": 46,
      "outputs": [
        {
          "output_type": "stream",
          "text": [
            "<class 'pandas.core.frame.DataFrame'>\n",
            "Int64Index: 12483 entries, 24 to 43776\n",
            "Data columns (total 8 columns):\n",
            " #   Column  Non-Null Count  Dtype         \n",
            "---  ------  --------------  -----         \n",
            " 0   year    12483 non-null  int64         \n",
            " 1   month   12483 non-null  int64         \n",
            " 2   day     12483 non-null  int64         \n",
            " 3   hour    12483 non-null  int64         \n",
            " 4   pm2.5   12483 non-null  float64       \n",
            " 5   TEMP    12483 non-null  float64       \n",
            " 6   cbwd    12483 non-null  object        \n",
            " 7   date    12483 non-null  datetime64[ns]\n",
            "dtypes: datetime64[ns](1), float64(2), int64(4), object(1)\n",
            "memory usage: 877.7+ KB\n"
          ],
          "name": "stdout"
        }
      ]
    },
    {
      "cell_type": "code",
      "metadata": {
        "id": "KA_gqAAdrYc1"
      },
      "source": [
        "elevated.count()"
      ],
      "execution_count": null,
      "outputs": []
    },
    {
      "cell_type": "code",
      "metadata": {
        "colab": {
          "base_uri": "https://localhost:8080/"
        },
        "id": "9JxL5SCTqjAZ",
        "outputId": "7830ec2c-b0f1-4f91-8ba2-819691f54c48"
      },
      "source": [
        "print(\"La probabilidad PM2.5 > 120 es de:\", elevated['pm2.5'].count()/not_na['pm2.5'].count()*100, \"%\")"
      ],
      "execution_count": 50,
      "outputs": [
        {
          "output_type": "stream",
          "text": [
            "La probabilidad PM2.5 > 120 es de: 29.894388964724477 %\n"
          ],
          "name": "stdout"
        }
      ]
    },
    {
      "cell_type": "markdown",
      "metadata": {
        "id": "AVFgWLU3sLef"
      },
      "source": [
        "La probabilidad de encontrar en la base de datos un PM2.5 encima de 120 es de **29.894388964724477%**"
      ]
    },
    {
      "cell_type": "markdown",
      "metadata": {
        "id": "g9eNxyfviFUK"
      },
      "source": [
        "### PRUEBA"
      ]
    },
    {
      "cell_type": "code",
      "metadata": {
        "id": "DLW7GHLxJoXB",
        "colab": {
          "base_uri": "https://localhost:8080/",
          "height": 285
        },
        "outputId": "360bf2b8-b87a-4cd8-ed0b-c8d7b9ffeb5c"
      },
      "source": [
        "asignar=[]\n",
        "lista1=[]\n",
        "lista2=[]\n",
        "lista3=[]\n",
        "for index, row in not_na.iterrows():\n",
        "    if(row['pm2.5'] > 500):\n",
        "        asignar.append(colores[1])\n",
        "        lista1.append\n",
        "    else:\n",
        "      if((row[\"pm2.5\"] > 120) & (row[\"pm2.5\"] <= 500)):\n",
        "        asignar.append(colores[2])\n",
        "        lista2.append\n",
        "      else:\n",
        "        asignar.append(colores[0])\n",
        "        lista3.append\n",
        "    \n",
        "plt.scatter(X, Y, c=asignar, s=tamanios[0])\n",
        "plt.xlabel('Anno')\n",
        "plt.autoscale(enable=True, tight= False)\n",
        "plt.ylabel('PM2.5')\n",
        "plt.plot(lista1, label = \"Hazardous\", marker = 'o', color = \"red\")\n",
        "plt.plot(lista2, label = \"Elevated\", marker = 'o', color = \"orange\")\n",
        "plt.plot(lista3, label = \"Normal\", marker = 'o', color = \"blue\")\n",
        "plt.legend()\n",
        "plt.show()"
      ],
      "execution_count": 251,
      "outputs": [
        {
          "output_type": "display_data",
          "data": {
            "image/png": "[encoded data removed]",
            "text/plain": [
              "<Figure size 432x288 with 1 Axes>"
            ]
          },
          "metadata": {
            "tags": []
          }
        }
      ]
    },
    {
      "cell_type": "markdown",
      "metadata": {
        "id": "vUAPG74eAJF8"
      },
      "source": [
        "## 6. Organización Ascendente de Datos Por Año"
      ]
    },
    {
      "cell_type": "code",
      "metadata": {
        "id": "x3wdN79T6iCq"
      },
      "source": [
        "by_year = not_na.groupby(['year']).mean()\n",
        "by_year.head()"
      ],
      "execution_count": null,
      "outputs": []
    },
    {
      "cell_type": "code",
      "metadata": {
        "colab": {
          "base_uri": "https://localhost:8080/",
          "height": 235
        },
        "id": "uXhJCp3J4C7-",
        "outputId": "9fd0085c-0508-45d8-a718-2052350f25e9"
      },
      "source": [
        "by_year.sort_values(by=['pm2.5'],ascending=True)"
      ],
      "execution_count": null,
      "outputs": [
        {
          "output_type": "execute_result",
          "data": {
            "text/html": [
              "<div>\n",
              "<style scoped>\n",
              "    .dataframe tbody tr th:only-of-type {\n",
              "        vertical-align: middle;\n",
              "    }\n",
              "\n",
              "    .dataframe tbody tr th {\n",
              "        vertical-align: top;\n",
              "    }\n",
              "\n",
              "    .dataframe thead th {\n",
              "        text-align: right;\n",
              "    }\n",
              "</style>\n",
              "<table border=\"1\" class=\"dataframe\">\n",
              "  <thead>\n",
              "    <tr style=\"text-align: right;\">\n",
              "      <th></th>\n",
              "      <th>month</th>\n",
              "      <th>day</th>\n",
              "      <th>hour</th>\n",
              "      <th>pm2.5</th>\n",
              "      <th>TEMP</th>\n",
              "    </tr>\n",
              "    <tr>\n",
              "      <th>year</th>\n",
              "      <th></th>\n",
              "      <th></th>\n",
              "      <th></th>\n",
              "      <th></th>\n",
              "      <th></th>\n",
              "    </tr>\n",
              "  </thead>\n",
              "  <tbody>\n",
              "    <tr>\n",
              "      <th>2012</th>\n",
              "      <td>6.452200</td>\n",
              "      <td>15.471248</td>\n",
              "      <td>11.506088</td>\n",
              "      <td>90.545871</td>\n",
              "      <td>12.109946</td>\n",
              "    </tr>\n",
              "    <tr>\n",
              "      <th>2014</th>\n",
              "      <td>6.505715</td>\n",
              "      <td>15.729708</td>\n",
              "      <td>11.504676</td>\n",
              "      <td>97.734557</td>\n",
              "      <td>13.709156</td>\n",
              "    </tr>\n",
              "    <tr>\n",
              "      <th>2011</th>\n",
              "      <td>6.601096</td>\n",
              "      <td>15.966633</td>\n",
              "      <td>11.509836</td>\n",
              "      <td>99.071340</td>\n",
              "      <td>12.407869</td>\n",
              "    </tr>\n",
              "    <tr>\n",
              "      <th>2013</th>\n",
              "      <td>6.517516</td>\n",
              "      <td>15.674464</td>\n",
              "      <td>11.497580</td>\n",
              "      <td>101.712376</td>\n",
              "      <td>12.383614</td>\n",
              "    </tr>\n",
              "    <tr>\n",
              "      <th>2010</th>\n",
              "      <td>6.494747</td>\n",
              "      <td>15.590656</td>\n",
              "      <td>11.493511</td>\n",
              "      <td>104.045730</td>\n",
              "      <td>11.313805</td>\n",
              "    </tr>\n",
              "  </tbody>\n",
              "</table>\n",
              "</div>"
            ],
            "text/plain": [
              "         month        day       hour       pm2.5       TEMP\n",
              "year                                                       \n",
              "2012  6.452200  15.471248  11.506088   90.545871  12.109946\n",
              "2014  6.505715  15.729708  11.504676   97.734557  13.709156\n",
              "2011  6.601096  15.966633  11.509836   99.071340  12.407869\n",
              "2013  6.517516  15.674464  11.497580  101.712376  12.383614\n",
              "2010  6.494747  15.590656  11.493511  104.045730  11.313805"
            ]
          },
          "metadata": {
            "tags": []
          },
          "execution_count": 145
        }
      ]
    }
  ]
}