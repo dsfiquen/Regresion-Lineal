{
  "nbformat": 4,
  "nbformat_minor": 0,
  "metadata": {
    "colab": {
      "name": "Ensayo Regresión Lineal.ipynb",
      "provenance": []
    },
    "kernelspec": {
      "name": "python3",
      "display_name": "Python 3"
    },
    "language_info": {
      "name": "python"
    }
  },
  "cells": [
    {
      "cell_type": "markdown",
      "metadata": {
        "id": "wHJXczr0IHoz"
      },
      "source": [
        "# Qué es Regresión Lineal?"
      ]
    },
    {
      "cell_type": "markdown",
      "metadata": {
        "id": "-6pFuuIRMSTd"
      },
      "source": [
        "##Definición"
      ]
    },
    {
      "cell_type": "markdown",
      "metadata": {
        "id": "laDph8WMI2T6"
      },
      "source": [
        "En estadística, se entiende por [Regresión Lineal](https://en.wikipedia.org/wiki/Linear_regression#:~:text=In%20statistics%2C%20linear%20regression%20is,as%20dependent%20and%20independent%20variables) a una técnica de modelado matemático, usada para ajustar la relación de dependencia entre dos -*binaria*- o más variables -*multilinear*-. Adicionalmente, la magnitud de las variables está limitada a un espacio vectorial -*respuesta escalar*-. El caso más simple de regresión linear explica la relación entre una variable dependiente $Y$, respecto a una variable independiente $X$, junto a un término aleatorio $\\epsilon$. "
      ]
    },
    {
      "cell_type": "markdown",
      "metadata": {
        "id": "CeQxeg9ybCc8"
      },
      "source": [
        "## Historia. &nbsp;\n",
        "[Fuente](https://es.wikipedia.org/wiki/Regresi%C3%B3n_lineal)"
      ]
    },
    {
      "cell_type": "markdown",
      "metadata": {
        "id": "l0MIQGIqnfLz"
      },
      "source": [
        "El método de mínimos cuadrados fue publicado en 1805 por **Adrien Marie Legendre**. El término *regresión* proviene de la publicación que hizo **Francis Galton** en 1985 llamada ***Regression to mediocrity***. En ella, Galton emplea el método de mínimos cuadrados para demostrar que los hijos de parejas altas tienden a ser también altos pero no tanto como sus padres y que los hijos de parejas de poca estatura tienden a ser bajos pero no tanto como sus padres. [Fuente](https://www.cienciadedatos.net/documentos/24_correlacion_y_regresion_lineal#Apuntes_varios_(miscellaneous)"
      ]
    },
    {
      "cell_type": "markdown",
      "metadata": {
        "id": "4J01K59txOdl"
      },
      "source": [
        "Fue en 1809 cuando Friedrich Gauss publicó su tratado astronómico *Theoria motus corporum coelestium in sectionibus conicis solem ambientum*, donde teorizaba acerca del movimiento de planetoides afectados por cuerpos celestes más grandes. &nbsp;\n",
        "\n",
        "En el proceso, introdujó la [Constante Gravitacional de Gauss](https://en.wikipedia.org/wiki/Gaussian_gravitational_constant), la cúal contribuyó al desarrollo del método de ***mínimos cuadrados***."
      ]
    },
    {
      "cell_type": "markdown",
      "metadata": {
        "id": "ROsr90XQs8G6"
      },
      "source": [
        "En la década de 1830, el académico belga [Adolphe Quetelet](https://en.wikipedia.org/wiki/Adolphe_Quetelet) fue pionero al introducir el procedimiento de Regresion Lineal e implementarlo ampliamente en las ciencias sociales. &nbsp;\n",
        "\n",
        "Quetelet también fue el fundador de la escuela de [antropometría](https://en.wikipedia.org/wiki/Anthropometry), colaborando con los estudios de antropología y ciencia forense de la época. Fue el creador del Indice de Masa Corporal ([BMI](https://en.wikipedia.org/wiki/Body_mass_index))."
      ]
    },
    {
      "cell_type": "markdown",
      "metadata": {
        "id": "LLkNAL6uTP1F"
      },
      "source": [
        "## Explicación matemática del Modelo de Regresión"
      ]
    },
    {
      "cell_type": "markdown",
      "metadata": {
        "id": "Qi3uMtcUTcsc"
      },
      "source": [
        "Este modelo puede explicarse bajo la fórmula: \n",
        "\n",
        "$Y = \\beta_0 + \\beta_1X_1 + \\epsilon$\n",
        "\n",
        "Donde:  \n",
        "$Y$ es la variable de respuesta.\n",
        "$X_1,X_2,...,X_n$ son variables independientes.\n",
        "$\\beta_0,\\beta_1, ..., \\beta_n$ son los parámetros del modelo. Midiendo el coeficiente de influencia de las variables independientes.\n"
      ]
    },
    {
      "cell_type": "markdown",
      "metadata": {
        "id": "fsMRQlKRPB6n"
      },
      "source": [
        "![Ejemplo Uno](https://upload.wikimedia.org/wikipedia/commons/thumb/3/3a/Linear_regression.svg/1920px-Linear_regression.svg.png)"
      ]
    },
    {
      "cell_type": "markdown",
      "metadata": {
        "id": "YaBxD0RdcGOy"
      },
      "source": [
        ">Ejemplo de Regresión Linear Simple, con una única variable independiente."
      ]
    },
    {
      "cell_type": "markdown",
      "metadata": {
        "id": "Vylj41HFeCjz"
      },
      "source": [
        "![Linear Multiple](https://www.fisterra.com/mbe/investiga/regre_lineal_multi/images/Image167.gif)"
      ]
    },
    {
      "cell_type": "markdown",
      "metadata": {
        "id": "2RCU2K9_eSC5"
      },
      "source": [
        ">Ejemplo de un Modelo Múltiple, con dos variables regresivas relacionadas al registro de presión arterial."
      ]
    },
    {
      "cell_type": "markdown",
      "metadata": {
        "id": "8OLPD_ehMX9A"
      },
      "source": [
        "### Complejidad"
      ]
    },
    {
      "cell_type": "markdown",
      "metadata": {
        "id": "Z4IZOXd6MlOJ"
      },
      "source": [
        "Debido a que los parámateros desconocidos se pueden ajustar con mayor facilidad que en los modelos no-lineales, la regresión linear es primordial en el análisis estadístico de la [distribución de probabilidad condicional](https://en.wikipedia.org/wiki/Conditional_probability_distribution)."
      ]
    },
    {
      "cell_type": "markdown",
      "metadata": {
        "id": "41KkSDaQlNbT"
      },
      "source": [
        "## Condiciones para la Regresión Lineal. &nbsp; \n",
        "[Fuente](https://www.cienciadedatos.net/documentos/24_correlacion_y_regresion_lineal)"
      ]
    },
    {
      "cell_type": "markdown",
      "metadata": {
        "id": "hl1pxRKvlKq6"
      },
      "source": [
        "**I. Linealidad:** La relación entre ambas variables debe ser lineal. Para comprobarlo se puede recurrir a: &nbsp;\n",
        "\n",
        "**a.** Graficar ambas variables a la vez (scatterplot o diagrama de dispersión), superponiendo la recta del modelo generado por regresión lineal.&nbsp;\n",
        "\n",
        "**b.** Calcular los residuos para cada observación acorde al modelo generado y graficarlos (scatterplot). Deben distribuirse de forma aleatoria en torno al valor 0.\n"
      ]
    },
    {
      "cell_type": "markdown",
      "metadata": {
        "id": "wdyManillvM-"
      },
      "source": [
        "**II. Distribución Normal de los residuos:** Los residuos se tiene que distribuir de forma normal, con media igual a 0. Esto se puede comprobar con un histograma, con la distribución de cuantiles (qqnorm() + qqline()) o con un test de hipótesis de normalidad. Los valores extremos suelen ser una causa frecuente por la que se viola la condición de normalidad."
      ]
    },
    {
      "cell_type": "markdown",
      "metadata": {
        "id": "2d3URpXdmDyG"
      },
      "source": [
        "**III. Varianza de residuos constante (homocedasticidad):** La varianza de los residuos ha de ser aproximadamente constante a lo largo del eje X. Se puede comprobar mediante gráficos (scatterplot) de los residuos de cada observación (formas cónicas son un claro indicio de falta de homocedasticidad).\n",
        "\n"
      ]
    },
    {
      "cell_type": "markdown",
      "metadata": {
        "id": "QAwzN8aMmWqD"
      },
      "source": [
        "**IV. Valores atípicos y de alta influencia:** Hay que estudiar con detenimiento los valores atípicos o extremos ya que pueden generar una falsa correlación que realmente no existe, u ocultar una existente."
      ]
    },
    {
      "cell_type": "markdown",
      "metadata": {
        "id": "V_T1dNj-nBNY"
      },
      "source": [
        "**V. Independencia, Autocorrelación:** Las observaciones deben ser independientes unas de otras. Esto es importante tenerlo en cuenta cuando se trata de mediciones temporales. Puede detectarse estudiando si los residuos siguen un patrón o tendencia. Otro caso frecuente es el de tener varias mediciones para un mismo sujeto. En estos casos, primero se obtiene la media de cada uno y después se ajusta el modelo empleando las medias.\n",
        "\n"
      ]
    },
    {
      "cell_type": "markdown",
      "metadata": {
        "id": "-Flt50t3Nnfp"
      },
      "source": [
        "![Aplicación Modelo Linear](https://miro.medium.com/max/1400/1*PQ8tdohapfm-YHlrRIRuOA.gif)"
      ]
    },
    {
      "cell_type": "markdown",
      "metadata": {
        "id": "NPw_1ibbklGQ"
      },
      "source": [
        ">Dado que las condiciones se verifican a partir de los residuos, primero se suele generar el modelo y después se valida. De hecho, el ajuste de un modelo debe verse como un proceso iterativo en el que se ajusta un modelo inicial, se evalúa mediante sus residuos y se mejora. Así hasta llegar a un modelo óptimo.\n"
      ]
    },
    {
      "cell_type": "markdown",
      "metadata": {
        "id": "bIPCavMzp_ER"
      },
      "source": [
        "## Aplicación del Algoritmo"
      ]
    },
    {
      "cell_type": "markdown",
      "metadata": {
        "id": "MfqmBU4cqBhI"
      },
      "source": [
        "El algoritmo de Regresión es implementado primordialmente para resolver problemas de clasificación. Puede aplicarse tanto para el ***análisis predictivo*** como para la ***explicación de fenómenos***. &nbsp;\n",
        "\n",
        "Su aplicación abarca tanto las ciencias naturales como las ciencias sociales y del comportamiento humano, pues trata de demostrar y predecir la relación entre variables -en apariencia no vinculadas-; convirtiendose así en una herramienta poderosa para investigaciones en diferentes disciplinas del conocimiento."
      ]
    },
    {
      "cell_type": "markdown",
      "metadata": {
        "id": "CoWFuQLPpxKt"
      },
      "source": [
        "## Conclusiones"
      ]
    },
    {
      "cell_type": "markdown",
      "metadata": {
        "id": "jT__CgQ9p1Kj"
      },
      "source": [
        "El modelo de regresión lineal como método lógico es ampliamente implementado en la cotidianidad. Estimar los coeficientes de impacto entre dos parámetros respecto a un resultado esperado y la minimización de errores es determinante a la hora de tomar decisiones."
      ]
    }
  ]
}